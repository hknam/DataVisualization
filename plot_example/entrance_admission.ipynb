{
 "cells": [
  {
   "cell_type": "code",
   "execution_count": 1,
   "metadata": {
    "collapsed": true
   },
   "outputs": [],
   "source": [
    "import matplotlib.pyplot as plt"
   ]
  },
  {
   "cell_type": "code",
   "execution_count": 2,
   "metadata": {
    "collapsed": true
   },
   "outputs": [],
   "source": [
    "labels = 'Computer Science', 'Foreigh Languages', 'Analytical Chemistry', \\\n",
    "        'Education', 'Humanities', 'Physics', 'Biology', \\\n",
    "        'Math and Statistics', 'Engineering'"
   ]
  },
  {
   "cell_type": "code",
   "execution_count": 3,
   "metadata": {
    "collapsed": true
   },
   "outputs": [],
   "source": [
    "sizes = [21, 4, 7, 7, 8, 9, 10, 15, 19]\n",
    "colors = ['yellowgreen', 'gold', 'lightskyblue', 'lightcoral', 'red', 'purple', '#f280de', 'orange', 'green']"
   ]
  },
  {
   "cell_type": "code",
   "execution_count": 4,
   "metadata": {
    "collapsed": true
   },
   "outputs": [],
   "source": [
    "explode = (0, 0, 0, 0, 0, 0, 0, 0, 0.1)"
   ]
  },
  {
   "cell_type": "code",
   "execution_count": 5,
   "metadata": {},
   "outputs": [
    {
     "data": {
      "text/plain": [
       "([<matplotlib.patches.Wedge at 0x10f0ed5f8>,\n",
       "  <matplotlib.patches.Wedge at 0x10f0edcf8>,\n",
       "  <matplotlib.patches.Wedge at 0x10f0fc4a8>,\n",
       "  <matplotlib.patches.Wedge at 0x10f0fcc50>,\n",
       "  <matplotlib.patches.Wedge at 0x10f108438>,\n",
       "  <matplotlib.patches.Wedge at 0x10f108be0>,\n",
       "  <matplotlib.patches.Wedge at 0x10f1103c8>,\n",
       "  <matplotlib.patches.Wedge at 0x10f110b70>,\n",
       "  <matplotlib.patches.Wedge at 0x10f118358>],\n",
       " [Text(0.869171,0.674198,'Computer Science'),\n",
       "  Text(0.137867,1.09133,'Foreigh Languages'),\n",
       "  Text(-0.239958,1.07351,'Analytical Chemistry'),\n",
       "  Text(-0.674198,0.869171,'Education'),\n",
       "  Text(-0.99531,0.468357,'Humanities'),\n",
       "  Text(-1.09512,-0.103519,'Physics'),\n",
       "  Text(-0.847565,-0.701166,'Biology'),\n",
       "  Text(-0.103519,-1.09512,'Math and Statistics'),\n",
       "  Text(0.992497,-0.6745,'Engineering')],\n",
       " [Text(0.474093,0.367744,'21.0%'),\n",
       "  Text(0.0752,0.595269,'4.0%'),\n",
       "  Text(-0.130886,0.58555,'7.0%'),\n",
       "  Text(-0.367744,0.474093,'7.0%'),\n",
       "  Text(-0.542896,0.255468,'8.0%'),\n",
       "  Text(-0.597337,-0.056465,'9.0%'),\n",
       "  Text(-0.462308,-0.382454,'10.0%'),\n",
       "  Text(-0.056465,-0.597337,'15.0%'),\n",
       "  Text(0.578956,-0.393458,'19.0%')])"
      ]
     },
     "execution_count": 5,
     "metadata": {},
     "output_type": "execute_result"
    }
   ],
   "source": [
    "plt.pie(sizes, explode = explode, labels = labels, autopct = '%1.1f%%', colors = colors)"
   ]
  },
  {
   "cell_type": "code",
   "execution_count": 6,
   "metadata": {},
   "outputs": [
    {
     "data": {
      "text/plain": [
       "(-1.1088039239728231,\n",
       " 1.1870657712685257,\n",
       " -1.1109331382794803,\n",
       " 1.1005206292309826)"
      ]
     },
     "execution_count": 6,
     "metadata": {},
     "output_type": "execute_result"
    }
   ],
   "source": [
    "plt.axis('equal')"
   ]
  },
  {
   "cell_type": "code",
   "execution_count": 7,
   "metadata": {},
   "outputs": [
    {
     "data": {
      "image/png": "[encoded data removed]",
      "text/plain": [
       "<matplotlib.figure.Figure at 0x10a0f2208>"
      ]
     },
     "metadata": {},
     "output_type": "display_data"
    }
   ],
   "source": [
    "plt.show()"
   ]
  },
  {
   "cell_type": "code",
   "execution_count": null,
   "metadata": {
    "collapsed": true
   },
   "outputs": [],
   "source": []
  }
 ],
 "metadata": {
  "kernelspec": {
   "display_name": "Python 3",
   "language": "python",
   "name": "python3"
  },
  "language_info": {
   "codemirror_mode": {
    "name": "ipython",
    "version": 3
   },
   "file_extension": ".py",
   "mimetype": "text/x-python",
   "name": "python",
   "nbconvert_exporter": "python",
   "pygments_lexer": "ipython3",
   "version": "3.6.3"
  }
 },
 "nbformat": 4,
 "nbformat_minor": 2
}
