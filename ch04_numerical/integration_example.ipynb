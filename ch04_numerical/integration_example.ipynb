{
 "cells": [
  {
   "cell_type": "code",
   "execution_count": 1,
   "metadata": {
    "collapsed": true
   },
   "outputs": [],
   "source": [
    "import numpy as np\n",
    "from scipy.integrate import simps, romberg"
   ]
  },
  {
   "cell_type": "code",
   "execution_count": 2,
   "metadata": {
    "collapsed": true
   },
   "outputs": [],
   "source": [
    "a = -3.0\n",
    "b = 3.0\n",
    "N = 10"
   ]
  },
  {
   "cell_type": "code",
   "execution_count": 3,
   "metadata": {
    "collapsed": true
   },
   "outputs": [],
   "source": [
    "x = np.linspace(a, b, N)\n",
    "y = 9 - x*x\n",
    "yromb = lambda x: (9 - x * x)"
   ]
  },
  {
   "cell_type": "code",
   "execution_count": 4,
   "metadata": {},
   "outputs": [],
   "source": [
    "t = np.trapz(y, x)\n",
    "s = simps(y, x)\n",
    "r = romberg(yromb, a, b)"
   ]
  },
  {
   "cell_type": "code",
   "execution_count": 5,
   "metadata": {
    "collapsed": true
   },
   "outputs": [],
   "source": [
    "aiv = (9 * b -(b * b * b) / 3.0) - (9 * a - (a * a* a) / 3.0)"
   ]
  },
  {
   "cell_type": "code",
   "execution_count": 7,
   "metadata": {},
   "outputs": [
    {
     "name": "stdout",
     "output_type": "stream",
     "text": [
      "trapezoidal = 35.55555555555555 (-1.234568% error)\n",
      "simpsons = 35.95061728395061 (-0.137174% error)\n",
      "romberg = 36.0 (0.000000% error)\n",
      "actual value = 36.0\n"
     ]
    }
   ],
   "source": [
    "print('trapezoidal = {0} ({1:%} error)'.format(t, (t - aiv) / aiv))\n",
    "print('simpsons = {0} ({1:%} error)'.format(s, (s - aiv) / aiv))\n",
    "print('romberg = {0} ({1:%} error)'.format(r, (r - aiv) / aiv))\n",
    "print('actual value = {0}'.format(aiv))"
   ]
  }
 ],
 "metadata": {
  "kernelspec": {
   "display_name": "Python 3",
   "language": "python",
   "name": "python3"
  },
  "language_info": {
   "codemirror_mode": {
    "name": "ipython",
    "version": 3
   },
   "file_extension": ".py",
   "mimetype": "text/x-python",
   "name": "python",
   "nbconvert_exporter": "python",
   "pygments_lexer": "ipython3",
   "version": "3.6.3"
  }
 },
 "nbformat": 4,
 "nbformat_minor": 2
}
