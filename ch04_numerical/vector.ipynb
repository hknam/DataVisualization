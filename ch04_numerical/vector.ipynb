{
 "cells": [
  {
   "cell_type": "code",
   "execution_count": 1,
   "metadata": {
    "collapsed": true
   },
   "outputs": [],
   "source": [
    "import numpy as np"
   ]
  },
  {
   "cell_type": "code",
   "execution_count": 2,
   "metadata": {
    "collapsed": true
   },
   "outputs": [],
   "source": [
    "def addition(x, y, z):\n",
    "    return x + y + z"
   ]
  },
  {
   "cell_type": "code",
   "execution_count": 16,
   "metadata": {
    "collapsed": true
   },
   "outputs": [],
   "source": [
    "def addploy():\n",
    "    i = np.random.randint(25)\n",
    "    poly1 = np.arange(i, i + 10)\n",
    "    i = np.random.randint(25)\n",
    "    poly2 = np.arange(i, i + 10)\n",
    "    poly3 = np.arange(10, 20)\n",
    "    print(poly1)\n",
    "    print(poly2)\n",
    "    print(poly3)\n",
    "    print('-' * 32)\n",
    "    vecf = np.vectorize(addition)\n",
    "    print(vecf(poly1, poly2, poly3))"
   ]
  },
  {
   "cell_type": "code",
   "execution_count": 17,
   "metadata": {},
   "outputs": [
    {
     "name": "stdout",
     "output_type": "stream",
     "text": [
      "[15 16 17 18 19 20 21 22 23 24]\n",
      "[22 23 24 25 26 27 28 29 30 31]\n",
      "[10 11 12 13 14 15 16 17 18 19]\n",
      "--------------------------------\n",
      "[47 50 53 56 59 62 65 68 71 74]\n"
     ]
    }
   ],
   "source": [
    "addploy()"
   ]
  },
  {
   "cell_type": "code",
   "execution_count": 18,
   "metadata": {
    "collapsed": true
   },
   "outputs": [],
   "source": [
    "def posquare(x):\n",
    "    if x > 0 :\n",
    "        return x ** 2\n",
    "    else:\n",
    "        return -x"
   ]
  },
  {
   "cell_type": "code",
   "execution_count": 19,
   "metadata": {},
   "outputs": [
    {
     "name": "stdout",
     "output_type": "stream",
     "text": [
      "[11 12 13 14 15 16 17 18 19 20]\n"
     ]
    }
   ],
   "source": [
    "i = np.random.randint(25)\n",
    "poly1 = np.arange(i, i+10)\n",
    "print(poly1)"
   ]
  },
  {
   "cell_type": "code",
   "execution_count": 24,
   "metadata": {},
   "outputs": [],
   "source": [
    "vecfunc = np.vectorize(posquare, otypes=[float])"
   ]
  },
  {
   "cell_type": "code",
   "execution_count": 25,
   "metadata": {},
   "outputs": [
    {
     "data": {
      "text/plain": [
       "array([ 121.,  144.,  169.,  196.,  225.,  256.,  289.,  324.,  361.,  400.])"
      ]
     },
     "execution_count": 25,
     "metadata": {},
     "output_type": "execute_result"
    }
   ],
   "source": [
    "vecfunc(poly1)"
   ]
  }
 ],
 "metadata": {
  "kernelspec": {
   "display_name": "Python 3",
   "language": "python",
   "name": "python3"
  },
  "language_info": {
   "codemirror_mode": {
    "name": "ipython",
    "version": 3
   },
   "file_extension": ".py",
   "mimetype": "text/x-python",
   "name": "python",
   "nbconvert_exporter": "python",
   "pygments_lexer": "ipython3",
   "version": "3.6.3"
  }
 },
 "nbformat": 4,
 "nbformat_minor": 2
}
