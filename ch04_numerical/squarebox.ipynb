{
 "cells": [
  {
   "cell_type": "code",
   "execution_count": 1,
   "metadata": {
    "collapsed": true
   },
   "outputs": [],
   "source": [
    "import numpy as np\n",
    "import matplotlib.pyplot as plt"
   ]
  },
  {
   "cell_type": "code",
   "execution_count": 2,
   "metadata": {
    "collapsed": true
   },
   "outputs": [],
   "source": [
    "def sparse_display(nonzero, square_size, ax = None):\n",
    "    ax = ax if ax is not None else plt.gca()\n",
    "    ax.patch.set_facecolor('black')\n",
    "    ax.set_aspect('equal', 'box')\n",
    "    for row in range(0, square_size):\n",
    "        for col in range(0, square_size):\n",
    "            if (row, col) in nonzero.keys():\n",
    "                el = nonzero[(row, col)]\n",
    "                if el == 0: color = 'black'\n",
    "                else: color = '#008000'\n",
    "                rect = plt.Rectangle([col, row], 1, 1, facecolor = color, edgecolor = color)\n",
    "                ax.add_patch(rect)\n",
    "\n",
    "    ax.autoscale_view()\n",
    "    ax.invert_yaxis()"
   ]
  },
  {
   "cell_type": "code",
   "execution_count": 3,
   "metadata": {},
   "outputs": [
    {
     "data": {
      "image/png": "[encoded data removed]",
      "text/plain": [
       "<matplotlib.figure.Figure at 0x1084b1940>"
      ]
     },
     "metadata": {},
     "output_type": "display_data"
    }
   ],
   "source": [
    "nonzero={(0,4): 2, (0,7): 1, (1,1): 4, (1,3): 3, (1,8): 1,\n",
    "(2,0): 6, (0,9): 2, (2,2): 1, (2,5): 7, (3,9): 1, (5,0): 3,\n",
    "(5,2): 2, (5,8): 3, (6,3): 2, (6,6): 1, (7,8): 1, (8,0): 3, (8,2): 2,\n",
    "(8,9): 1, (9,1): 3}\n",
    "\n",
    "plt.figure(figsize = (4, 4))\n",
    "sparse_display(nonzero, 10)\n",
    "plt.show()"
   ]
  }
 ],
 "metadata": {
  "kernelspec": {
   "display_name": "Python 3",
   "language": "python",
   "name": "python3"
  },
  "language_info": {
   "codemirror_mode": {
    "name": "ipython",
    "version": 3
   },
   "file_extension": ".py",
   "mimetype": "text/x-python",
   "name": "python",
   "nbconvert_exporter": "python",
   "pygments_lexer": "ipython3",
   "version": "3.6.3"
  }
 },
 "nbformat": 4,
 "nbformat_minor": 2
}
